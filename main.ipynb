{
 "cells": [
  {
   "cell_type": "markdown",
   "id": "d307b1f3-6417-4f7e-b7b6-9611401a9f40",
   "metadata": {},
   "source": [
    "# Hurt people hurt people\n",
    "\n",
    "## Finite difference replicator-mutator equation\n",
    "\n",
    "- $x_T$: proportion of population that is traumatised.\n",
    "- $x_S$: proportion of population that is not traumatised.\n",
    "- $p$: probability of non traumatised people becoming traumatised.\n",
    "- $q$: probability of healing.\n",
    "- $f_T$: the fitness of a traumatised individual $f_T=\\alpha f_S$ where $\\alpha > 1$\n",
    "- $f_S$: the fitness of a non traumatised individual\n",
    "- $\\bar f$: the average fitness $\\bar f=x_T f_T + x_S f_S$\n",
    "\n",
    "The equation:\n",
    "\n",
    "\n",
    "$$x_i'=\\sum_{j\\in\\{T, S\\}}\\frac{x_jf_jQ_{ji}}{\\bar f}\\text{ for }i\\in\\{T,S\\}$$\n",
    "\n",
    "equivalently:\n",
    "\n",
    "$$x_{j}^{(t + 1)}=\\sum_{j\\in\\{T, S\\}}\\frac{x_j^{(t)}f_jQ_{ji}}{\\bar f}\\text{ for }i\\in\\{T,S\\}$$\n",
    "\n",
    "we have:\n",
    "\n",
    "$$\n",
    "Q = \n",
    "\\begin{pmatrix}\n",
    "    1 - q & q\\\\\n",
    "    p     & 1 - p\n",
    "\\end{pmatrix}\n",
    "$$\n",
    "\n",
    "\n",
    "which gives:\n",
    "\n",
    "\n",
    "$$x_T'=\\frac{x_Tf_T(1 - q) + x_Sf_Tp}{\\bar f}$$\n",
    "\n",
    "\n",
    "### Self sustaining proportion of trauma when $Q_T = x_T' / x_T \\geq 1$\n",
    "\n",
    "$$\n",
    "\\begin{aligned}\n",
    "Q_T =  \\frac{x_T'}{x_T} & = \\frac{1}{x_T}\\frac{x_T\\alpha f_S(1 - q) + (1 - x_T)f_Sp}{x_T \\alpha f_S + (1 -x_T) f_S}\\\\\n",
    "                        & = \\frac{1}{x_T}\\frac{x_T\\alpha (1 - q) + p - x_Tp}{x_T \\alpha  + (1 -x_T) }\\\\\n",
    "                        & = \\frac{1}{x_T}\\frac{x_T(\\alpha(1 - q) - p) + p}{x_T (\\alpha - 1) + 1 }\\\\\n",
    "\\end{aligned}\n",
    "$$\n",
    "\n",
    "If $p = q = 0$:\n",
    "\n",
    "$$\n",
    "\\begin{aligned}\n",
    "Q_T = \\frac{\\alpha}{x_T (\\alpha - 1) + 1 }\\\\\n",
    "\\end{aligned}\n",
    "$$\n",
    "\n",
    "which is $\\geq 1$ when $\\alpha \\geq 1$ because: $x_T(\\alpha - 1) + 1 - \\alpha = (x_T - 1)(\\alpha - 1) < 0$.\n",
    "\n",
    "Other interesting cases to show algebraically:\n",
    "\n",
    "- If $p = \\beta q$:\n",
    "    - $\\alpha > 1$, $\\beta > 1$: we expect $Q_T > 1$ (fitness advantage and in flow)\n",
    "    - $\\alpha > 1$, $\\beta < 1$: we expect a condition on $Q_T$ (fitness advantage but out flow)\n",
    "    - $\\alpha < 1$, $\\beta < 1$: we expect $Q_T < 1$ (fitness disadvantage and out flow due to healing) -- this strays from premis of fitness advantage\n",
    "    - $\\alpha < 1$, $\\beta > 1$: we expect a condition on $Q_T$ (fitness disadvantage and in flow)  -- this strays from premis of fitness advantage\n",
    "- If $p=0$ and $q>0$:\n",
    "    - If $\\alpha=1$ $x_T\\to 0$\n",
    "    - If $\\alpha>1$ $x_T \\to \\epsilon$ depending on some relationship between $\\alpha$ and $q$.\n",
    "- If $p>0$ then $x_T > 0$.\n",
    "- Some sort of family of approximation results based on things like $\\beta$ is close to 1 ($\\beta = 1 + \\epsilon$ etc...)."
   ]
  },
  {
   "cell_type": "code",
   "execution_count": 36,
   "id": "64c123b9-8ec7-475a-97f4-0ba2629345e0",
   "metadata": {},
   "outputs": [],
   "source": [
    "import matplotlib.pyplot as plt\n",
    "\n",
    "def get_x_T_prime(x_T, f_S, alpha, p, q):\n",
    "    x_S = 1 - x_T\n",
    "    f_T = alpha * f_S\n",
    "    f_bar = x_T * f_T + x_S * f_S\n",
    "    \n",
    "    numerator = x_T * f_T * (1 - q) + x_S * f_S * p\n",
    "    return numerator / f_bar"
   ]
  },
  {
   "cell_type": "code",
   "execution_count": 37,
   "id": "aaca4ee1-11ff-4dd5-bbac-134ea5e36938",
   "metadata": {},
   "outputs": [],
   "source": [
    "def simulation(x_T, f_S, alpha, p, q, number_of_iterations):\n",
    "    yield x_T\n",
    "\n",
    "    for _ in range(number_of_iterations):\n",
    "        x_T = get_x_T_prime(x_T, f_S, alpha, p, q)\n",
    "        yield x_T"
   ]
  },
  {
   "cell_type": "code",
   "execution_count": 40,
   "id": "c5c01e4c-2443-4182-b34f-70830974d47c",
   "metadata": {},
   "outputs": [
    {
     "data": {
      "text/plain": [
       "0.9999999999999997"
      ]
     },
     "execution_count": 40,
     "metadata": {},
     "output_type": "execute_result"
    }
   ],
   "source": [
    "x_T = .5\n",
    "f_S = 1\n",
    "alpha = 1.5\n",
    "p = 0\n",
    "q = 0\n",
    "number_of_iterations = 100\n",
    "\n",
    "results = simulation(\n",
    "    x_T=x_T, \n",
    "    f_S=f_S, \n",
    "    alpha=alpha, \n",
    "    p=p, \n",
    "    q=q, \n",
    "    number_of_iterations=number_of_iterations,\n",
    ")\n",
    "list(results)[-1]"
   ]
  },
  {
   "cell_type": "code",
   "execution_count": 41,
   "id": "35d05fb0-ed94-4941-b6cf-b10cca7940d3",
   "metadata": {},
   "outputs": [
    {
     "data": {
      "image/png": "[encoded data removed]",
      "text/plain": [
       "<Figure size 640x480 with 1 Axes>"
      ]
     },
     "metadata": {},
     "output_type": "display_data"
    }
   ],
   "source": [
    "x_T = .5\n",
    "f_S = 1\n",
    "alpha = 1.5\n",
    "p = .7\n",
    "q = 0\n",
    "number_of_iterations = 100\n",
    "\n",
    "results = list(simulation(\n",
    "    x_T=x_T, \n",
    "    f_S=f_S, \n",
    "    alpha=alpha, \n",
    "    p=p, \n",
    "    q=q, \n",
    "    number_of_iterations=number_of_iterations,\n",
    "))\n",
    "\n",
    "plt.figure()\n",
    "plt.plot(results);"
   ]
  },
  {
   "cell_type": "code",
   "execution_count": 43,
   "id": "c8ce7d34-0a42-44d8-879f-3e66037dc8a5",
   "metadata": {},
   "outputs": [
    {
     "data": {
      "image/png": "[encoded data removed]",
      "text/plain": [
       "<Figure size 640x480 with 1 Axes>"
      ]
     },
     "metadata": {},
     "output_type": "display_data"
    }
   ],
   "source": [
    "x_T = .5\n",
    "f_S = 1\n",
    "alpha = 1.5\n",
    "p = .7\n",
    "q = .5\n",
    "number_of_iterations = 100\n",
    "\n",
    "results = list(simulation(\n",
    "    x_T=x_T, \n",
    "    f_S=f_S, \n",
    "    alpha=alpha, \n",
    "    p=p, \n",
    "    q=q, \n",
    "    number_of_iterations=number_of_iterations,\n",
    "))\n",
    "\n",
    "plt.figure()\n",
    "plt.plot(results);"
   ]
  },
  {
   "cell_type": "code",
   "execution_count": 44,
   "id": "42339a28-d294-4084-81ea-8b996071e761",
   "metadata": {},
   "outputs": [
    {
     "data": {
      "image/png": "[encoded data removed]",
      "text/plain": [
       "<Figure size 640x480 with 1 Axes>"
      ]
     },
     "metadata": {},
     "output_type": "display_data"
    }
   ],
   "source": [
    "x_T = .5\n",
    "f_S = 1\n",
    "alpha = 1\n",
    "p = .7\n",
    "q = .5\n",
    "number_of_iterations = 100\n",
    "\n",
    "results = list(simulation(\n",
    "    x_T=x_T, \n",
    "    f_S=f_S, \n",
    "    alpha=alpha, \n",
    "    p=p, \n",
    "    q=q, \n",
    "    number_of_iterations=number_of_iterations,\n",
    "))\n",
    "\n",
    "plt.figure()\n",
    "plt.plot(results);"
   ]
  },
  {
   "cell_type": "code",
   "execution_count": 53,
   "id": "37ce25ae-5b38-48c5-878f-cc92cdcfffef",
   "metadata": {},
   "outputs": [
    {
     "data": {
      "image/png": "[encoded data removed]",
      "text/plain": [
       "<Figure size 640x480 with 1 Axes>"
      ]
     },
     "metadata": {},
     "output_type": "display_data"
    }
   ],
   "source": [
    "x_T = .8\n",
    "f_S = 1\n",
    "alpha = 1\n",
    "p = .7\n",
    "q = .5\n",
    "number_of_iterations = 100\n",
    "\n",
    "results = list(simulation(\n",
    "    x_T=x_T, \n",
    "    f_S=f_S, \n",
    "    alpha=alpha, \n",
    "    p=p, \n",
    "    q=q, \n",
    "    number_of_iterations=number_of_iterations,\n",
    "))\n",
    "\n",
    "plt.figure()\n",
    "plt.plot(results);"
   ]
  },
  {
   "cell_type": "code",
   "execution_count": 47,
   "id": "dc751e7c-a6ec-493a-b4dc-622ccc69c91e",
   "metadata": {},
   "outputs": [
    {
     "data": {
      "image/png": "[encoded data removed]",
      "text/plain": [
       "<Figure size 640x480 with 1 Axes>"
      ]
     },
     "metadata": {},
     "output_type": "display_data"
    }
   ],
   "source": [
    "x_T = .5\n",
    "f_S = 1\n",
    "alpha = 1.2\n",
    "p = .05\n",
    "q = .8\n",
    "number_of_iterations = 100\n",
    "\n",
    "results = list(simulation(\n",
    "    x_T=x_T, \n",
    "    f_S=f_S, \n",
    "    alpha=alpha, \n",
    "    p=p, \n",
    "    q=q, \n",
    "    number_of_iterations=number_of_iterations,\n",
    "))\n",
    "\n",
    "plt.figure()\n",
    "plt.plot(results);"
   ]
  },
  {
   "cell_type": "code",
   "execution_count": 54,
   "id": "e8d1434e-f0be-4f17-ae6b-0896851336e5",
   "metadata": {},
   "outputs": [
    {
     "data": {
      "text/plain": [
       "Text(0.5, 1.0, '0.05980997195835432')"
      ]
     },
     "execution_count": 54,
     "metadata": {},
     "output_type": "execute_result"
    },
    {
     "data": {
      "image/png": "[encoded data removed]",
      "text/plain": [
       "<Figure size 640x480 with 1 Axes>"
      ]
     },
     "metadata": {},
     "output_type": "display_data"
    }
   ],
   "source": [
    "x_T = .5\n",
    "f_S = 1\n",
    "alpha = 1.1\n",
    "p = .05\n",
    "q = .8\n",
    "number_of_iterations = 100\n",
    "\n",
    "results = list(simulation(\n",
    "    x_T=x_T, \n",
    "    f_S=f_S, \n",
    "    alpha=alpha, \n",
    "    p=p, \n",
    "    q=q, \n",
    "    number_of_iterations=number_of_iterations,\n",
    "))\n",
    "\n",
    "plt.figure()\n",
    "plt.plot(results)\n",
    "plt.title(results[-1])"
   ]
  },
  {
   "cell_type": "code",
   "execution_count": 55,
   "id": "340cc704-0fe9-4604-956c-151573c0129d",
   "metadata": {},
   "outputs": [
    {
     "data": {
      "text/plain": [
       "Text(0.5, 1.0, '1.0185179881672491e-10')"
      ]
     },
     "execution_count": 55,
     "metadata": {},
     "output_type": "execute_result"
    },
    {
     "data": {
      "image/png": "[encoded data removed]",
      "text/plain": [
       "<Figure size 640x480 with 1 Axes>"
      ]
     },
     "metadata": {},
     "output_type": "display_data"
    }
   ],
   "source": [
    "x_T = .5\n",
    "f_S = 1\n",
    "alpha = 1\n",
    "p = 0\n",
    "q = .2\n",
    "number_of_iterations = 100\n",
    "\n",
    "results = list(simulation(\n",
    "    x_T=x_T, \n",
    "    f_S=f_S, \n",
    "    alpha=alpha, \n",
    "    p=p, \n",
    "    q=q, \n",
    "    number_of_iterations=number_of_iterations,\n",
    "))\n",
    "\n",
    "plt.figure()\n",
    "plt.plot(results)\n",
    "plt.title(results[-1])"
   ]
  },
  {
   "cell_type": "code",
   "execution_count": 58,
   "id": "95a2d761-4d76-4f0a-a560-3e64e5cfb60f",
   "metadata": {},
   "outputs": [
    {
     "data": {
      "text/plain": [
       "Text(0.5, 1.0, '0.40000000096597405')"
      ]
     },
     "execution_count": 58,
     "metadata": {},
     "output_type": "execute_result"
    },
    {
     "data": {
      "image/png": "[encoded data removed]",
      "text/plain": [
       "<Figure size 640x480 with 1 Axes>"
      ]
     },
     "metadata": {},
     "output_type": "display_data"
    }
   ],
   "source": [
    "x_T = .5\n",
    "f_S = 1\n",
    "alpha = 1.5\n",
    "p = 0\n",
    "q = .2\n",
    "number_of_iterations = 100\n",
    "\n",
    "results = list(simulation(\n",
    "    x_T=x_T, \n",
    "    f_S=f_S, \n",
    "    alpha=alpha, \n",
    "    p=p, \n",
    "    q=q, \n",
    "    number_of_iterations=number_of_iterations,\n",
    "))\n",
    "\n",
    "plt.figure()\n",
    "plt.plot(results)\n",
    "plt.title(results[-1])"
   ]
  },
  {
   "cell_type": "markdown",
   "id": "70855692-a1d0-4dcb-a6bb-8def70852993",
   "metadata": {},
   "source": [
    "### Using only the replicator dynamics equation (without the mutation transition matrix)\n",
    "\n",
    "In this case:\n",
    "\n",
    "$$\n",
    "\\begin{aligned}\n",
    "f_T =& \\alpha f_S - qf_t + pf_S\\\\\n",
    "f_S =& f_S\n",
    "\\end{aligned}\n",
    "$$\n",
    "\n",
    "which gives:\n",
    "\n",
    "$$\n",
    "\\begin{aligned}\n",
    "f_T =& \\frac{\\alpha + p}{1 + q}f_S\\\\\n",
    "f_S =& f_S\n",
    "\\end{aligned}\n",
    "$$\n",
    "\n",
    "Not sure this goes anywhere."
   ]
  },
  {
   "cell_type": "markdown",
   "id": "0860f7e9-5b88-463f-ba74-02b8618f28d9",
   "metadata": {},
   "source": [
    "### Finite population model\n",
    "\n",
    "State?"
   ]
  },
  {
   "cell_type": "markdown",
   "id": "8aabebc8-ea7d-43ac-b8ee-23d6c786f000",
   "metadata": {},
   "source": [
    "### Agent Based model"
   ]
  },
  {
   "cell_type": "code",
   "execution_count": 64,
   "id": "041deb9b-8a7f-4c9f-a1a1-8e28ec62d526",
   "metadata": {},
   "outputs": [],
   "source": [
    "import random\n",
    "\n",
    "class Individual:\n",
    "\n",
    "    probability_of_healing = .4\n",
    "    probability_of_ambient_trauma = .1\n",
    "    def __init__(\n",
    "        self, \n",
    "        age=0, \n",
    "        number_of_aces=None,\n",
    "        parents=None,\n",
    "\n",
    "    ):\n",
    "        self.parents = parents\n",
    "\n",
    "        self.age = age\n",
    "        \n",
    "        if number_of_aces is None:\n",
    "            self.number_of_aces = random.randint(0, 4)\n",
    "        else:\n",
    "            self.number_of_aces = number_of_aces\n",
    "    \n",
    "    def have_a_birthday(self):\n",
    "        self.age += 1\n",
    "\n",
    "        delta = 0\n",
    "        if random.random() < self.probability_of_healing:\n",
    "            delta -= 1\n",
    "\n",
    "        if random.random() < self.probability_of_ambient_trauma:\n",
    "            delta += 1\n",
    "\n",
    "        if self.parents is not None:\n",
    "            if (self.parents[0].number_of_aces + self.parents[1].number_of_aces) > 0 and self.age < 14:\n",
    "                delta += random.randint(0, 1)\n",
    "        \n",
    "        self.number_of_aces = min(7, max(self.number_of_aces + delta, 0))\n",
    "        \n",
    "    def get_probability_of_reproducing(self):\n",
    "        \"\"\"\n",
    "        TODO: A more considered function of trauma is needed here.\n",
    "\n",
    "        We want the probability to be some piecewise (intervals on age) continuous function of trauma.\n",
    "\n",
    "        This uses the data in first table of \n",
    "        \n",
    "        https://journals.sagepub.com/doi/full/10.1177/0022146519868842#:~:text=We%20draw%20on%20evidence%20that,ACEs%20on%20women%27s%20later%2Dlife\n",
    "        \"\"\"\n",
    "        if self.age < 14:\n",
    "            return 0\n",
    "        if  self.age <= 19:\n",
    "\n",
    "            if self.number_of_aces == 0:\n",
    "                return .446 / 5\n",
    "            if self.number_of_aces == 1:\n",
    "                return .308 / 5\n",
    "            if self.number_of_aces == 2:\n",
    "                return .140 / 5\n",
    "            return .106 / 5\n",
    "        if self.age <= 24:\n",
    "            if self.number_of_aces == 0:\n",
    "                return .459 / 4\n",
    "            if self.number_of_aces == 1:\n",
    "                return .293 / 4\n",
    "            if self.number_of_aces == 2:\n",
    "                return .135 / 4\n",
    "            return .112 / 4\n",
    "        if self.age <= 39:\n",
    "            if self.number_of_aces == 0:\n",
    "                return .568 / 11\n",
    "            if self.number_of_aces == 1:\n",
    "                return .224 / 11\n",
    "            if self.number_of_aces == 2:\n",
    "                return .130 / 11\n",
    "            return .770 / 11\n",
    "        return 0\n",
    "    \n",
    "    def die(self):\n",
    "        \"\"\"\n",
    "        Get better death function.\n",
    "        \"\"\"\n",
    "        if self.age > 40:\n",
    "            return True\n",
    "        return random.random() < .01\n",
    "\n",
    "    def reproduce(self, other):\n",
    "        probabilities = self.get_probability_of_reproducing(), other.get_probability_of_reproducing()\n",
    "        if (min(probabilities) > 0)  and (random.random() < 2 * self.get_probability_of_reproducing()):\n",
    "            epigenetic_trauma = random.randint(0, (self.number_of_aces + other.number_of_aces) // 2)\n",
    "            return Individual(age=0, number_of_aces=epigenetic_trauma, parents=(self, other))\n",
    "        return None\n",
    "\n",
    "\n",
    "class Population:\n",
    "\n",
    "    def __init__(self, initial_size):\n",
    "        self.individuals = [Individual(age=14) for _ in range(initial_size)]\n",
    "\n",
    "    def run(self, iterations):\n",
    "        for _ in range(iterations):\n",
    "    \n",
    "            yield self.individuals\n",
    "            new_generation = []\n",
    "            \n",
    "            for individual in self.individuals:\n",
    "                individual.have_a_birthday()\n",
    "                if individual.die() is False:\n",
    "                    new_generation.append(individual)\n",
    "                    \n",
    "            random.shuffle(new_generation)\n",
    "            size_of_new_generation = len(new_generation)\n",
    "\n",
    "\n",
    "            for first, second in zip(\n",
    "                new_generation[:size_of_new_generation // 2], \n",
    "                new_generation[size_of_new_generation // 2:]\n",
    "            ):\n",
    "                new_individual = first.reproduce(second)\n",
    "                if new_individual is not None:\n",
    "                    new_generation.append(new_individual)\n",
    "            self.individuals = new_generation\n",
    "\n",
    "\n",
    "\n",
    "\n"
   ]
  },
  {
   "cell_type": "code",
   "execution_count": 65,
   "id": "77741ace-62b7-4299-9fe4-e7f6642215da",
   "metadata": {},
   "outputs": [
    {
     "data": {
      "text/plain": [
       "(0.0892, 14)"
      ]
     },
     "execution_count": 65,
     "metadata": {},
     "output_type": "execute_result"
    }
   ],
   "source": [
    "individual = Individual(age=14, number_of_aces=0)\n",
    "individual.get_probability_of_reproducing(), individual.age"
   ]
  },
  {
   "cell_type": "code",
   "execution_count": 66,
   "id": "feb0ebf1-4072-45e9-af2d-fb9ac99efeb8",
   "metadata": {},
   "outputs": [
    {
     "name": "stdout",
     "output_type": "stream",
     "text": [
      "\n",
      "\n",
      "==========\n",
      "Number of individuals 1000\n",
      "Min age: 14\n",
      "Mean age: 14.0\n",
      "Max age: 14\n",
      "\n",
      "\n",
      "==========\n",
      "Number of individuals 1425\n",
      "Min age: 0\n",
      "Mean age: 16.865263157894738\n",
      "Max age: 24\n",
      "\n",
      "\n",
      "==========\n",
      "Number of individuals 1578\n",
      "Min age: 0\n",
      "Mean age: 22.70785804816223\n",
      "Max age: 34\n",
      "\n",
      "\n",
      "==========\n",
      "Number of individuals 1053\n",
      "Min age: 0\n",
      "Mean age: 15.236467236467236\n",
      "Max age: 29\n",
      "\n",
      "\n",
      "==========\n",
      "Number of individuals 1218\n",
      "Min age: 0\n",
      "Mean age: 20.58456486042693\n",
      "Max age: 39\n",
      "\n",
      "\n",
      "==========\n",
      "Number of individuals 1042\n",
      "Min age: 0\n",
      "Mean age: 19.63147792706334\n",
      "Max age: 40\n",
      "\n",
      "\n",
      "==========\n",
      "Number of individuals 960\n",
      "Min age: 0\n",
      "Mean age: 20.604166666666668\n",
      "Max age: 40\n",
      "\n",
      "\n",
      "==========\n",
      "Number of individuals 826\n",
      "Min age: 0\n",
      "Mean age: 19.329297820823246\n",
      "Max age: 40\n",
      "\n",
      "\n",
      "==========\n",
      "Number of individuals 803\n",
      "Min age: 0\n",
      "Mean age: 19.870485678704856\n",
      "Max age: 40\n",
      "\n",
      "\n",
      "==========\n",
      "Number of individuals 716\n",
      "Min age: 0\n",
      "Mean age: 19.951117318435752\n",
      "Max age: 40\n",
      "\n",
      "\n",
      "==========\n",
      "Number of individuals 663\n",
      "Min age: 0\n",
      "Mean age: 19.92609351432881\n",
      "Max age: 40\n",
      "\n",
      "\n",
      "==========\n",
      "Number of individuals 586\n",
      "Min age: 0\n",
      "Mean age: 19.70136518771331\n",
      "Max age: 40\n",
      "\n",
      "\n",
      "==========\n",
      "Number of individuals 548\n",
      "Min age: 0\n",
      "Mean age: 19.490875912408757\n",
      "Max age: 40\n",
      "\n",
      "\n",
      "==========\n",
      "Number of individuals 525\n",
      "Min age: 0\n",
      "Mean age: 19.925714285714285\n",
      "Max age: 40\n",
      "\n",
      "\n",
      "==========\n",
      "Number of individuals 480\n",
      "Min age: 0\n",
      "Mean age: 19.520833333333332\n",
      "Max age: 40\n",
      "\n",
      "\n",
      "==========\n",
      "Number of individuals 434\n",
      "Min age: 0\n",
      "Mean age: 19.599078341013826\n",
      "Max age: 40\n",
      "\n",
      "\n",
      "==========\n",
      "Number of individuals 411\n",
      "Min age: 0\n",
      "Mean age: 19.41119221411192\n",
      "Max age: 40\n",
      "\n",
      "\n",
      "==========\n",
      "Number of individuals 368\n",
      "Min age: 0\n",
      "Mean age: 19.23641304347826\n",
      "Max age: 40\n",
      "\n",
      "\n",
      "==========\n",
      "Number of individuals 353\n",
      "Min age: 0\n",
      "Mean age: 19.960339943342778\n",
      "Max age: 40\n",
      "\n",
      "\n",
      "==========\n",
      "Number of individuals 318\n",
      "Min age: 0\n",
      "Mean age: 20.056603773584907\n",
      "Max age: 40\n"
     ]
    }
   ],
   "source": [
    "## import numpy as np\n",
    "\n",
    "population = Population(initial_size=1_000)\n",
    "for i, generation in enumerate(population.run(iterations=200)):\n",
    "    if i % 10 == 0:\n",
    "        print(\"\\n\")\n",
    "        print(\"=\" * 10)\n",
    "        print(f\"Number of individuals {len(generation)}\")\n",
    "        print(f\"Min age: {np.min([individual.age for individual in generation])}\")\n",
    "        print(f\"Mean age: {np.mean([individual.age for individual in generation])}\")\n",
    "    \n",
    "        print(f\"Max age: {np.max([individual.age for individual in generation])}\")\n",
    "\n",
    "\n"
   ]
  },
  {
   "cell_type": "code",
   "execution_count": 247,
   "id": "0515e542-0afa-4adf-b569-ad8f387e10b2",
   "metadata": {},
   "outputs": [
    {
     "data": {
      "text/plain": [
       "21"
      ]
     },
     "execution_count": 247,
     "metadata": {},
     "output_type": "execute_result"
    }
   ],
   "source": [
    "me.age"
   ]
  },
  {
   "cell_type": "code",
   "execution_count": 105,
   "id": "92634bbb-dcd1-449e-8554-40979863bf3c",
   "metadata": {},
   "outputs": [
    {
     "data": {
      "text/plain": [
       "0.2975390721099045"
      ]
     },
     "execution_count": 105,
     "metadata": {},
     "output_type": "execute_result"
    }
   ],
   "source": [
    "me.trauma"
   ]
  },
  {
   "cell_type": "code",
   "execution_count": 106,
   "id": "a81f2ee3-c54a-4c3e-9131-6049d5ad8832",
   "metadata": {},
   "outputs": [
    {
     "data": {
      "text/plain": [
       "0.2"
      ]
     },
     "execution_count": 106,
     "metadata": {},
     "output_type": "execute_result"
    }
   ],
   "source": [
    "me.get_probability_of_reproducing()"
   ]
  },
  {
   "cell_type": "code",
   "execution_count": 108,
   "id": "238eec9c-1b93-4dff-9056-01e18c382145",
   "metadata": {},
   "outputs": [
    {
     "name": "stdout",
     "output_type": "stream",
     "text": [
      "<__main__.Individual object at 0x112340750>\n",
      "None\n",
      "None\n",
      "None\n",
      "None\n",
      "None\n",
      "None\n",
      "None\n",
      "None\n",
      "None\n",
      "None\n",
      "None\n",
      "None\n",
      "None\n",
      "None\n",
      "None\n",
      "None\n",
      "None\n",
      "None\n",
      "<__main__.Individual object at 0x112340750>\n",
      "None\n",
      "None\n",
      "None\n",
      "None\n",
      "None\n",
      "None\n",
      "<__main__.Individual object at 0x112340750>\n",
      "None\n",
      "None\n",
      "None\n",
      "None\n",
      "None\n",
      "None\n",
      "None\n",
      "None\n",
      "None\n",
      "None\n",
      "None\n",
      "None\n",
      "None\n",
      "None\n",
      "None\n",
      "None\n",
      "None\n",
      "None\n",
      "None\n",
      "None\n",
      "None\n",
      "None\n",
      "None\n"
     ]
    }
   ],
   "source": [
    "for _ in range(50):\n",
    "    print(me.reproduce(other))"
   ]
  },
  {
   "cell_type": "code",
   "execution_count": 109,
   "id": "99748cb1-1f7b-4f36-888d-effd5461725c",
   "metadata": {},
   "outputs": [],
   "source": [
    "me.have_a_birthday()"
   ]
  },
  {
   "cell_type": "code",
   "execution_count": 110,
   "id": "59a9d4f7-9b20-4009-810d-8a7afa2d0669",
   "metadata": {},
   "outputs": [
    {
     "data": {
      "text/plain": [
       "21"
      ]
     },
     "execution_count": 110,
     "metadata": {},
     "output_type": "execute_result"
    }
   ],
   "source": [
    "me.age"
   ]
  },
  {
   "cell_type": "code",
   "execution_count": 111,
   "id": "03053a73-c695-4275-b65c-aef413b5cfd9",
   "metadata": {},
   "outputs": [
    {
     "data": {
      "text/plain": [
       "0.32753907210990446"
      ]
     },
     "execution_count": 111,
     "metadata": {},
     "output_type": "execute_result"
    }
   ],
   "source": [
    "me.trauma"
   ]
  },
  {
   "cell_type": "markdown",
   "id": "998bb8dd-48b1-4e96-bdb5-76f50880521e",
   "metadata": {},
   "source": [
    "# Friday morning notes\n",
    "\n",
    "We started looking at convergence values."
   ]
  },
  {
   "cell_type": "code",
   "execution_count": 192,
   "id": "264d98d1-061a-45e4-97d3-6cdbf31387e4",
   "metadata": {},
   "outputs": [],
   "source": [
    "import sympy as sym\n",
    "\n",
    "symbolic_alpha = sym.Symbol(\"alpha\")\n",
    "symbolic_p = sym.Symbol(\"p\")\n",
    "symbolic_q = sym.Symbol(\"q\")\n",
    "symbolic_beta = sym.Symbol(\"beta\")\n",
    "\n",
    "def get_lhs(alpha, p, q):\n",
    "    x = sym.Symbol(\"x\")\n",
    "    lhs=(alpha - 1) * x ** 2 + (1 + p - alpha + alpha * q) * x - p\n",
    "    return lhs\n",
    "\n",
    "def get_convergence(alpha, p, q):\n",
    "    x = sym.Symbol(\"x\")\n",
    "    lhs = get_lhs(alpha=alpha, p=p, q=q)\n",
    "    return sym.solveset(lhs, x)"
   ]
  },
  {
   "cell_type": "code",
   "execution_count": 194,
   "id": "66119518-e1c5-425f-82a1-d7d8bc9cdbd6",
   "metadata": {},
   "outputs": [
    {
     "name": "stdout",
     "output_type": "stream",
     "text": [
      "p/2 + sqrt(p**2 - 2*p + 1)/2 + 1/2\n",
      "p/2 - sqrt(p**2 - 2*p + 1)/2 + 1/2\n"
     ]
    }
   ],
   "source": [
    "for root in get_convergence(alpha=symbolic_alpha, p=symbolic_p, q=symbolic_q):\n",
    "    print(sym.limit(root, symbolic_alpha, 0))"
   ]
  },
  {
   "cell_type": "code",
   "execution_count": 177,
   "id": "518ea7ff-393d-48d8-9eec-d082132175e9",
   "metadata": {},
   "outputs": [
    {
     "data": {
      "text/latex": [
       "$\\displaystyle \\left\\{\\frac{1}{2}\\right\\}$"
      ],
      "text/plain": [
       "{1/2}"
      ]
     },
     "execution_count": 177,
     "metadata": {},
     "output_type": "execute_result"
    }
   ],
   "source": [
    "sym.factor(get_convergence(alpha=1, p=symbolic_p, q=symbolic_p))"
   ]
  },
  {
   "cell_type": "code",
   "execution_count": 169,
   "id": "4d8c6950-84d2-4db5-b623-292808924863",
   "metadata": {},
   "outputs": [
    {
     "data": {
      "text/latex": [
       "$\\displaystyle \\left\\{- \\frac{\\alpha q - \\alpha + p + 1}{2 \\left(\\alpha - 1\\right)} - \\frac{\\sqrt{\\alpha^{2} q^{2} - 2 \\alpha^{2} q + \\alpha^{2} + 2 \\alpha p q + 2 \\alpha p + 2 \\alpha q - 2 \\alpha + p^{2} - 2 p + 1}}{2 \\left(\\alpha - 1\\right)}, - \\frac{\\alpha q - \\alpha + p + 1}{2 \\left(\\alpha - 1\\right)} + \\frac{\\sqrt{\\alpha^{2} q^{2} - 2 \\alpha^{2} q + \\alpha^{2} + 2 \\alpha p q + 2 \\alpha p + 2 \\alpha q - 2 \\alpha + p^{2} - 2 p + 1}}{2 \\left(\\alpha - 1\\right)}\\right\\}$"
      ],
      "text/plain": [
       "{-(alpha*q - alpha + p + 1)/(2*(alpha - 1)) - sqrt(alpha**2*q**2 - 2*alpha**2*q + alpha**2 + 2*alpha*p*q + 2*alpha*p + 2*alpha*q - 2*alpha + p**2 - 2*p + 1)/(2*(alpha - 1)), -(alpha*q - alpha + p + 1)/(2*(alpha - 1)) + sqrt(alpha**2*q**2 - 2*alpha**2*q + alpha**2 + 2*alpha*p*q + 2*alpha*p + 2*alpha*q - 2*alpha + p**2 - 2*p + 1)/(2*(alpha - 1))}"
      ]
     },
     "execution_count": 169,
     "metadata": {},
     "output_type": "execute_result"
    }
   ],
   "source": [
    "get_convergence(alpha=symbolic_alpha, p=symbolic_p, q=symbolic_q)"
   ]
  },
  {
   "cell_type": "markdown",
   "id": "f865dae5-f71e-45d3-9a72-47db87b29740",
   "metadata": {},
   "source": [
    "## Using a lognormal distribution to simulate number of births."
   ]
  },
  {
   "cell_type": "code",
   "execution_count": 199,
   "id": "20756b53-98e2-4a0a-b76f-ca8cba8b82e8",
   "metadata": {},
   "outputs": [],
   "source": [
    "import numpy as np\n",
    "import matplotlib.pyplot as plt"
   ]
  },
  {
   "cell_type": "code",
   "execution_count": 205,
   "id": "1c29f148-35f3-4b76-b305-dcc20886eb5a",
   "metadata": {},
   "outputs": [
    {
     "data": {
      "text/plain": [
       "0.05"
      ]
     },
     "execution_count": 205,
     "metadata": {},
     "output_type": "execute_result"
    }
   ],
   "source": [
    "3 / 60"
   ]
  },
  {
   "cell_type": "code",
   "execution_count": 237,
   "id": "efb8e4b6-18f8-419b-a616-df3210c84144",
   "metadata": {},
   "outputs": [
    {
     "data": {
      "image/png": "[encoded data removed]",
      "text/plain": [
       "<Figure size 640x480 with 1 Axes>"
      ]
     },
     "metadata": {},
     "output_type": "display_data"
    }
   ],
   "source": [
    "N = 10_000\n",
    "\n",
    "shape = 2.5\n",
    "scale = 4\n",
    "sigma = .9\n",
    "kappa = 1\n",
    "bins = 40\n",
    "lower_bound = 16\n",
    "\n",
    "plt.figure()\n",
    "plt.hist(np.random.gamma(shape=shape, scale=scale, size=N) + lower_bound, bins=bins, density=True, label=\"$S$\", alpha=.5)\n",
    "plt.hist(np.random.gamma(shape=sigma * shape, scale=kappa * scale, size=N) + lower_bound, bins=bins, density=True, label=\"$T$\", alpha=.5)\n",
    "plt.title(\"Probability of giving birth by age\")\n",
    "plt.xlabel(\"Age\")\n",
    "plt.legend();"
   ]
  },
  {
   "cell_type": "code",
   "execution_count": 221,
   "id": "b230cfcd-766c-4fb1-940a-8a6a63f31a80",
   "metadata": {},
   "outputs": [
    {
     "data": {
      "text/plain": [
       "\u001b[0;31mDocstring:\u001b[0m\n",
       "gamma(shape, scale=1.0, size=None)\n",
       "\n",
       "Draw samples from a Gamma distribution.\n",
       "\n",
       "Samples are drawn from a Gamma distribution with specified parameters,\n",
       "`shape` (sometimes designated \"k\") and `scale` (sometimes designated\n",
       "\"theta\"), where both parameters are > 0.\n",
       "\n",
       ".. note::\n",
       "    New code should use the `~numpy.random.Generator.gamma`\n",
       "    method of a `~numpy.random.Generator` instance instead;\n",
       "    please see the :ref:`random-quick-start`.\n",
       "\n",
       "Parameters\n",
       "----------\n",
       "shape : float or array_like of floats\n",
       "    The shape of the gamma distribution. Must be non-negative.\n",
       "scale : float or array_like of floats, optional\n",
       "    The scale of the gamma distribution. Must be non-negative.\n",
       "    Default is equal to 1.\n",
       "size : int or tuple of ints, optional\n",
       "    Output shape.  If the given shape is, e.g., ``(m, n, k)``, then\n",
       "    ``m * n * k`` samples are drawn.  If size is ``None`` (default),\n",
       "    a single value is returned if ``shape`` and ``scale`` are both scalars.\n",
       "    Otherwise, ``np.broadcast(shape, scale).size`` samples are drawn.\n",
       "\n",
       "Returns\n",
       "-------\n",
       "out : ndarray or scalar\n",
       "    Drawn samples from the parameterized gamma distribution.\n",
       "\n",
       "See Also\n",
       "--------\n",
       "scipy.stats.gamma : probability density function, distribution or\n",
       "    cumulative density function, etc.\n",
       "random.Generator.gamma: which should be used for new code.\n",
       "\n",
       "Notes\n",
       "-----\n",
       "The probability density for the Gamma distribution is\n",
       "\n",
       ".. math:: p(x) = x^{k-1}\\frac{e^{-x/\\theta}}{\\theta^k\\Gamma(k)},\n",
       "\n",
       "where :math:`k` is the shape and :math:`\\theta` the scale,\n",
       "and :math:`\\Gamma` is the Gamma function.\n",
       "\n",
       "The Gamma distribution is often used to model the times to failure of\n",
       "electronic components, and arises naturally in processes for which the\n",
       "waiting times between Poisson distributed events are relevant.\n",
       "\n",
       "References\n",
       "----------\n",
       ".. [1] Weisstein, Eric W. \"Gamma Distribution.\" From MathWorld--A\n",
       "       Wolfram Web Resource.\n",
       "       http://mathworld.wolfram.com/GammaDistribution.html\n",
       ".. [2] Wikipedia, \"Gamma distribution\",\n",
       "       https://en.wikipedia.org/wiki/Gamma_distribution\n",
       "\n",
       "Examples\n",
       "--------\n",
       "Draw samples from the distribution:\n",
       "\n",
       ">>> shape, scale = 2., 2.  # mean=4, std=2*sqrt(2)\n",
       ">>> s = np.random.gamma(shape, scale, 1000)\n",
       "\n",
       "Display the histogram of the samples, along with\n",
       "the probability density function:\n",
       "\n",
       ">>> import matplotlib.pyplot as plt\n",
       ">>> import scipy.special as sps  # doctest: +SKIP\n",
       ">>> count, bins, ignored = plt.hist(s, 50, density=True)\n",
       ">>> y = bins**(shape-1)*(np.exp(-bins/scale) /  # doctest: +SKIP\n",
       "...                      (sps.gamma(shape)*scale**shape))\n",
       ">>> plt.plot(bins, y, linewidth=2, color='r')  # doctest: +SKIP\n",
       ">>> plt.show()\n",
       "\u001b[0;31mType:\u001b[0m      builtin_function_or_method"
      ]
     },
     "metadata": {},
     "output_type": "display_data"
    }
   ],
   "source": [
    "np.random.gamma?"
   ]
  },
  {
   "cell_type": "code",
   "execution_count": null,
   "id": "2544d98d-ee32-45a1-95ae-fbddbf4410e7",
   "metadata": {},
   "outputs": [],
   "source": []
  }
 ],
 "metadata": {
  "kernelspec": {
   "display_name": "Python 3 (ipykernel)",
   "language": "python",
   "name": "python3"
  },
  "language_info": {
   "codemirror_mode": {
    "name": "ipython",
    "version": 3
   },
   "file_extension": ".py",
   "mimetype": "text/x-python",
   "name": "python",
   "nbconvert_exporter": "python",
   "pygments_lexer": "ipython3",
   "version": "3.11.4"
  }
 },
 "nbformat": 4,
 "nbformat_minor": 5
}
